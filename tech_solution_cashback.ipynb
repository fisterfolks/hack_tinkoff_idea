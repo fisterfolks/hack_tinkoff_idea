{
  "nbformat": 4,
  "nbformat_minor": 0,
  "metadata": {
    "colab": {
      "name": "Untitled9.ipynb",
      "provenance": [],
      "include_colab_link": true
    },
    "kernelspec": {
      "name": "python3",
      "display_name": "Python 3"
    }
  },
  "cells": [
    {
      "cell_type": "markdown",
      "metadata": {
        "id": "view-in-github",
        "colab_type": "text"
      },
      "source": [
        "<a href=\"https://colab.research.google.com/github/fisterfolks/hack_tinkoff_idea/blob/master/tech_solution_cashback.ipynb\" target=\"_parent\"><img src=\"https://colab.research.google.com/assets/colab-badge.svg\" alt=\"Open In Colab\"/></a>"
      ]
    },
    {
      "cell_type": "code",
      "metadata": {
        "id": "xYxJHHgQ2iPR",
        "colab_type": "code",
        "colab": {
          "base_uri": "https://localhost:8080/",
          "height": 34
        },
        "outputId": "5fd20cd8-7514-4c73-ef93-d95fdff8fc80"
      },
      "source": [
        "from google.colab import drive\n",
        "drive.mount('/content/drive')"
      ],
      "execution_count": null,
      "outputs": [
        {
          "output_type": "stream",
          "text": [
            "Mounted at /content/drive\n"
          ],
          "name": "stdout"
        }
      ]
    },
    {
      "cell_type": "code",
      "metadata": {
        "id": "AblAv95q2ln7",
        "colab_type": "code",
        "colab": {}
      },
      "source": [
        "import pandas as pd\n",
        "import numpy as np"
      ],
      "execution_count": null,
      "outputs": []
    },
    {
      "cell_type": "code",
      "metadata": {
        "id": "svKqxdA52sJi",
        "colab_type": "code",
        "colab": {}
      },
      "source": [
        "DATADIR = \"/content/drive/My Drive/hacks\" # \"./data\"\n",
        "data_story_path = f\"{DATADIR}/avk_hackathon_data_story_logs.csv\"\n",
        "data_story_text_path = f\"{DATADIR}/avk_hackathon_data_story_texts.csv\"\n",
        "\n",
        "df_datastory = pd.read_csv(data_story_path)\n",
        "df_dstext = pd.read_csv(data_story_text_path)\n"
      ],
      "execution_count": null,
      "outputs": []
    },
    {
      "cell_type": "code",
      "metadata": {
        "id": "IMZn1Qbcn4IS",
        "colab_type": "code",
        "colab": {
          "base_uri": "https://localhost:8080/",
          "height": 195
        },
        "outputId": "29b22f7f-fe5b-4920-e63b-639a0b857fd7"
      },
      "source": [
        "df_datastory.head()"
      ],
      "execution_count": null,
      "outputs": [
        {
          "output_type": "execute_result",
          "data": {
            "text/html": [
              "<div>\n",
              "<style scoped>\n",
              "    .dataframe tbody tr th:only-of-type {\n",
              "        vertical-align: middle;\n",
              "    }\n",
              "\n",
              "    .dataframe tbody tr th {\n",
              "        vertical-align: top;\n",
              "    }\n",
              "\n",
              "    .dataframe thead th {\n",
              "        text-align: right;\n",
              "    }\n",
              "</style>\n",
              "<table border=\"1\" class=\"dataframe\">\n",
              "  <thead>\n",
              "    <tr style=\"text-align: right;\">\n",
              "      <th></th>\n",
              "      <th>party_rk</th>\n",
              "      <th>date_time</th>\n",
              "      <th>story_id</th>\n",
              "      <th>category</th>\n",
              "      <th>event</th>\n",
              "    </tr>\n",
              "  </thead>\n",
              "  <tbody>\n",
              "    <tr>\n",
              "      <th>0</th>\n",
              "      <td>64266</td>\n",
              "      <td>2019-12-01 13:05:31</td>\n",
              "      <td>3840</td>\n",
              "      <td>39</td>\n",
              "      <td>like</td>\n",
              "    </tr>\n",
              "    <tr>\n",
              "      <th>1</th>\n",
              "      <td>55721</td>\n",
              "      <td>2019-12-01 13:18:08</td>\n",
              "      <td>3857</td>\n",
              "      <td>39</td>\n",
              "      <td>like</td>\n",
              "    </tr>\n",
              "    <tr>\n",
              "      <th>2</th>\n",
              "      <td>27563</td>\n",
              "      <td>2019-12-01 13:25:40</td>\n",
              "      <td>3174</td>\n",
              "      <td>78</td>\n",
              "      <td>like</td>\n",
              "    </tr>\n",
              "    <tr>\n",
              "      <th>3</th>\n",
              "      <td>61223</td>\n",
              "      <td>2019-12-01 13:25:20</td>\n",
              "      <td>3857</td>\n",
              "      <td>39</td>\n",
              "      <td>like</td>\n",
              "    </tr>\n",
              "    <tr>\n",
              "      <th>4</th>\n",
              "      <td>61223</td>\n",
              "      <td>2019-12-01 13:29:05</td>\n",
              "      <td>3765</td>\n",
              "      <td>73</td>\n",
              "      <td>like</td>\n",
              "    </tr>\n",
              "  </tbody>\n",
              "</table>\n",
              "</div>"
            ],
            "text/plain": [
              "   party_rk            date_time  story_id  category event\n",
              "0     64266  2019-12-01 13:05:31      3840        39  like\n",
              "1     55721  2019-12-01 13:18:08      3857        39  like\n",
              "2     27563  2019-12-01 13:25:40      3174        78  like\n",
              "3     61223  2019-12-01 13:25:20      3857        39  like\n",
              "4     61223  2019-12-01 13:29:05      3765        73  like"
            ]
          },
          "metadata": {
            "tags": []
          },
          "execution_count": 8
        }
      ]
    },
    {
      "cell_type": "code",
      "metadata": {
        "id": "qK_FhpkFm83t",
        "colab_type": "code",
        "colab": {
          "base_uri": "https://localhost:8080/",
          "height": 254
        },
        "outputId": "7dd15815-e599-4ed3-8a2f-1732a92ab32a"
      },
      "source": [
        "df_datastory.category.value_counts().plot.bar(figsize=(40,6))"
      ],
      "execution_count": null,
      "outputs": [
        {
          "output_type": "execute_result",
          "data": {
            "text/plain": [
              "<matplotlib.axes._subplots.AxesSubplot at 0x7f8a6f82fef0>"
            ]
          },
          "metadata": {
            "tags": []
          },
          "execution_count": 7
        },
        {
          "output_type": "display_data",
          "data": {
            "image/png": "[encoded data removed]",
            "text/plain": [
              "<Figure size 2880x432 with 1 Axes>"
            ]
          },
          "metadata": {
            "tags": [],
            "needs_background": "light"
          }
        }
      ]
    },
    {
      "cell_type": "code",
      "metadata": {
        "id": "WFMhmleAnfBi",
        "colab_type": "code",
        "colab": {
          "base_uri": "https://localhost:8080/",
          "height": 402
        },
        "outputId": "4bb78a6a-b6a3-4e29-c550-ffae609ab86b"
      },
      "source": [
        "df = df_datastory[[\"party_rk\",\"category\"]]\n",
        "df"
      ],
      "execution_count": null,
      "outputs": [
        {
          "output_type": "execute_result",
          "data": {
            "text/html": [
              "<div>\n",
              "<style scoped>\n",
              "    .dataframe tbody tr th:only-of-type {\n",
              "        vertical-align: middle;\n",
              "    }\n",
              "\n",
              "    .dataframe tbody tr th {\n",
              "        vertical-align: top;\n",
              "    }\n",
              "\n",
              "    .dataframe thead th {\n",
              "        text-align: right;\n",
              "    }\n",
              "</style>\n",
              "<table border=\"1\" class=\"dataframe\">\n",
              "  <thead>\n",
              "    <tr style=\"text-align: right;\">\n",
              "      <th></th>\n",
              "      <th>party_rk</th>\n",
              "      <th>category</th>\n",
              "    </tr>\n",
              "  </thead>\n",
              "  <tbody>\n",
              "    <tr>\n",
              "      <th>0</th>\n",
              "      <td>64266</td>\n",
              "      <td>39</td>\n",
              "    </tr>\n",
              "    <tr>\n",
              "      <th>1</th>\n",
              "      <td>55721</td>\n",
              "      <td>39</td>\n",
              "    </tr>\n",
              "    <tr>\n",
              "      <th>2</th>\n",
              "      <td>27563</td>\n",
              "      <td>78</td>\n",
              "    </tr>\n",
              "    <tr>\n",
              "      <th>3</th>\n",
              "      <td>61223</td>\n",
              "      <td>39</td>\n",
              "    </tr>\n",
              "    <tr>\n",
              "      <th>4</th>\n",
              "      <td>61223</td>\n",
              "      <td>73</td>\n",
              "    </tr>\n",
              "    <tr>\n",
              "      <th>...</th>\n",
              "      <td>...</td>\n",
              "      <td>...</td>\n",
              "    </tr>\n",
              "    <tr>\n",
              "      <th>13815</th>\n",
              "      <td>19043</td>\n",
              "      <td>71</td>\n",
              "    </tr>\n",
              "    <tr>\n",
              "      <th>13816</th>\n",
              "      <td>19043</td>\n",
              "      <td>39</td>\n",
              "    </tr>\n",
              "    <tr>\n",
              "      <th>13817</th>\n",
              "      <td>10195</td>\n",
              "      <td>71</td>\n",
              "    </tr>\n",
              "    <tr>\n",
              "      <th>13818</th>\n",
              "      <td>10195</td>\n",
              "      <td>39</td>\n",
              "    </tr>\n",
              "    <tr>\n",
              "      <th>13819</th>\n",
              "      <td>10195</td>\n",
              "      <td>71</td>\n",
              "    </tr>\n",
              "  </tbody>\n",
              "</table>\n",
              "<p>13820 rows × 2 columns</p>\n",
              "</div>"
            ],
            "text/plain": [
              "       party_rk  category\n",
              "0         64266        39\n",
              "1         55721        39\n",
              "2         27563        78\n",
              "3         61223        39\n",
              "4         61223        73\n",
              "...         ...       ...\n",
              "13815     19043        71\n",
              "13816     19043        39\n",
              "13817     10195        71\n",
              "13818     10195        39\n",
              "13819     10195        71\n",
              "\n",
              "[13820 rows x 2 columns]"
            ]
          },
          "metadata": {
            "tags": []
          },
          "execution_count": 27
        }
      ]
    },
    {
      "cell_type": "code",
      "metadata": {
        "id": "5pE0mXMAo0F0",
        "colab_type": "code",
        "colab": {
          "base_uri": "https://localhost:8080/",
          "height": 461
        },
        "outputId": "45ad8267-fc32-4a8e-b20c-ded46355cb72"
      },
      "source": [
        "df.groupby(\"category\").describe()"
      ],
      "execution_count": null,
      "outputs": [
        {
          "output_type": "execute_result",
          "data": {
            "text/html": [
              "<div>\n",
              "<style scoped>\n",
              "    .dataframe tbody tr th:only-of-type {\n",
              "        vertical-align: middle;\n",
              "    }\n",
              "\n",
              "    .dataframe tbody tr th {\n",
              "        vertical-align: top;\n",
              "    }\n",
              "\n",
              "    .dataframe thead tr th {\n",
              "        text-align: left;\n",
              "    }\n",
              "\n",
              "    .dataframe thead tr:last-of-type th {\n",
              "        text-align: right;\n",
              "    }\n",
              "</style>\n",
              "<table border=\"1\" class=\"dataframe\">\n",
              "  <thead>\n",
              "    <tr>\n",
              "      <th></th>\n",
              "      <th colspan=\"8\" halign=\"left\">party_rk</th>\n",
              "    </tr>\n",
              "    <tr>\n",
              "      <th></th>\n",
              "      <th>count</th>\n",
              "      <th>mean</th>\n",
              "      <th>std</th>\n",
              "      <th>min</th>\n",
              "      <th>25%</th>\n",
              "      <th>50%</th>\n",
              "      <th>75%</th>\n",
              "      <th>max</th>\n",
              "    </tr>\n",
              "    <tr>\n",
              "      <th>category</th>\n",
              "      <th></th>\n",
              "      <th></th>\n",
              "      <th></th>\n",
              "      <th></th>\n",
              "      <th></th>\n",
              "      <th></th>\n",
              "      <th></th>\n",
              "      <th></th>\n",
              "    </tr>\n",
              "  </thead>\n",
              "  <tbody>\n",
              "    <tr>\n",
              "      <th>1</th>\n",
              "      <td>3.0</td>\n",
              "      <td>60204.000000</td>\n",
              "      <td>13064.859241</td>\n",
              "      <td>52661.0</td>\n",
              "      <td>52661.00</td>\n",
              "      <td>52661.0</td>\n",
              "      <td>63975.50</td>\n",
              "      <td>75290.0</td>\n",
              "    </tr>\n",
              "    <tr>\n",
              "      <th>2</th>\n",
              "      <td>592.0</td>\n",
              "      <td>42866.415541</td>\n",
              "      <td>23893.032276</td>\n",
              "      <td>15.0</td>\n",
              "      <td>22110.00</td>\n",
              "      <td>43084.5</td>\n",
              "      <td>64273.75</td>\n",
              "      <td>94600.0</td>\n",
              "    </tr>\n",
              "    <tr>\n",
              "      <th>3</th>\n",
              "      <td>251.0</td>\n",
              "      <td>47286.318725</td>\n",
              "      <td>25449.906566</td>\n",
              "      <td>2208.0</td>\n",
              "      <td>21377.00</td>\n",
              "      <td>52661.0</td>\n",
              "      <td>67672.00</td>\n",
              "      <td>93577.0</td>\n",
              "    </tr>\n",
              "    <tr>\n",
              "      <th>4</th>\n",
              "      <td>53.0</td>\n",
              "      <td>37090.056604</td>\n",
              "      <td>23168.228167</td>\n",
              "      <td>1814.0</td>\n",
              "      <td>19043.00</td>\n",
              "      <td>34135.0</td>\n",
              "      <td>55183.00</td>\n",
              "      <td>93918.0</td>\n",
              "    </tr>\n",
              "    <tr>\n",
              "      <th>5</th>\n",
              "      <td>12.0</td>\n",
              "      <td>51665.500000</td>\n",
              "      <td>23336.883006</td>\n",
              "      <td>9726.0</td>\n",
              "      <td>41110.25</td>\n",
              "      <td>59529.0</td>\n",
              "      <td>68793.00</td>\n",
              "      <td>76058.0</td>\n",
              "    </tr>\n",
              "    <tr>\n",
              "      <th>...</th>\n",
              "      <td>...</td>\n",
              "      <td>...</td>\n",
              "      <td>...</td>\n",
              "      <td>...</td>\n",
              "      <td>...</td>\n",
              "      <td>...</td>\n",
              "      <td>...</td>\n",
              "      <td>...</td>\n",
              "    </tr>\n",
              "    <tr>\n",
              "      <th>77</th>\n",
              "      <td>1.0</td>\n",
              "      <td>64034.000000</td>\n",
              "      <td>NaN</td>\n",
              "      <td>64034.0</td>\n",
              "      <td>64034.00</td>\n",
              "      <td>64034.0</td>\n",
              "      <td>64034.00</td>\n",
              "      <td>64034.0</td>\n",
              "    </tr>\n",
              "    <tr>\n",
              "      <th>78</th>\n",
              "      <td>405.0</td>\n",
              "      <td>41084.135802</td>\n",
              "      <td>26395.454747</td>\n",
              "      <td>779.0</td>\n",
              "      <td>16110.00</td>\n",
              "      <td>38965.0</td>\n",
              "      <td>61223.00</td>\n",
              "      <td>93512.0</td>\n",
              "    </tr>\n",
              "    <tr>\n",
              "      <th>79</th>\n",
              "      <td>1.0</td>\n",
              "      <td>8493.000000</td>\n",
              "      <td>NaN</td>\n",
              "      <td>8493.0</td>\n",
              "      <td>8493.00</td>\n",
              "      <td>8493.0</td>\n",
              "      <td>8493.00</td>\n",
              "      <td>8493.0</td>\n",
              "    </tr>\n",
              "    <tr>\n",
              "      <th>80</th>\n",
              "      <td>11.0</td>\n",
              "      <td>27881.363636</td>\n",
              "      <td>18386.661167</td>\n",
              "      <td>3645.0</td>\n",
              "      <td>15067.50</td>\n",
              "      <td>27690.0</td>\n",
              "      <td>31592.00</td>\n",
              "      <td>65693.0</td>\n",
              "    </tr>\n",
              "    <tr>\n",
              "      <th>81</th>\n",
              "      <td>2392.0</td>\n",
              "      <td>41531.339047</td>\n",
              "      <td>24854.025658</td>\n",
              "      <td>110.0</td>\n",
              "      <td>19283.00</td>\n",
              "      <td>40173.0</td>\n",
              "      <td>61223.00</td>\n",
              "      <td>94541.0</td>\n",
              "    </tr>\n",
              "  </tbody>\n",
              "</table>\n",
              "<p>81 rows × 8 columns</p>\n",
              "</div>"
            ],
            "text/plain": [
              "         party_rk                              ...                            \n",
              "            count          mean           std  ...      50%       75%      max\n",
              "category                                       ...                            \n",
              "1             3.0  60204.000000  13064.859241  ...  52661.0  63975.50  75290.0\n",
              "2           592.0  42866.415541  23893.032276  ...  43084.5  64273.75  94600.0\n",
              "3           251.0  47286.318725  25449.906566  ...  52661.0  67672.00  93577.0\n",
              "4            53.0  37090.056604  23168.228167  ...  34135.0  55183.00  93918.0\n",
              "5            12.0  51665.500000  23336.883006  ...  59529.0  68793.00  76058.0\n",
              "...           ...           ...           ...  ...      ...       ...      ...\n",
              "77            1.0  64034.000000           NaN  ...  64034.0  64034.00  64034.0\n",
              "78          405.0  41084.135802  26395.454747  ...  38965.0  61223.00  93512.0\n",
              "79            1.0   8493.000000           NaN  ...   8493.0   8493.00   8493.0\n",
              "80           11.0  27881.363636  18386.661167  ...  27690.0  31592.00  65693.0\n",
              "81         2392.0  41531.339047  24854.025658  ...  40173.0  61223.00  94541.0\n",
              "\n",
              "[81 rows x 8 columns]"
            ]
          },
          "metadata": {
            "tags": []
          },
          "execution_count": 29
        }
      ]
    },
    {
      "cell_type": "code",
      "metadata": {
        "id": "pUU_RK2NsIpb",
        "colab_type": "code",
        "colab": {}
      },
      "source": [
        "users_categories = {}\n",
        "\n",
        "for index, row in df.iterrows():\n",
        "    if row[\"party_rk\"] in users_categories:\n",
        "      users_categories[row[\"party_rk\"]].append(row[\"category\"])\n",
        "    else:\n",
        "      users_categories[row[\"party_rk\"]] = [row[\"category\"]]\n",
        "\n",
        "\n",
        "def most_frequent(arr):\n",
        "  return np.argmax(np.bincount(arr))"
      ],
      "execution_count": null,
      "outputs": []
    },
    {
      "cell_type": "code",
      "metadata": {
        "id": "vGKqZFyZtvKt",
        "colab_type": "code",
        "colab": {
          "base_uri": "https://localhost:8080/",
          "height": 310
        },
        "outputId": "00d68668-b075-4bf1-ef9c-5b5e5453b64d"
      },
      "source": [
        "import seaborn as sns\n",
        "mf = []\n",
        "for item in users_categories.items():\n",
        "  mf.append(most_frequent(item[1]))\n",
        "sns.set_style(\"whitegrid\")\n",
        "pd.Series(mf).value_counts().plot.bar(figsize=(40,6))\n",
        "# most_frequent(users_categories[27563])"
      ],
      "execution_count": null,
      "outputs": [
        {
          "output_type": "stream",
          "text": [
            "/usr/local/lib/python3.6/dist-packages/statsmodels/tools/_testing.py:19: FutureWarning: pandas.util.testing is deprecated. Use the functions in the public API at pandas.testing instead.\n",
            "  import pandas.util.testing as tm\n"
          ],
          "name": "stderr"
        },
        {
          "output_type": "execute_result",
          "data": {
            "text/plain": [
              "<matplotlib.axes._subplots.AxesSubplot at 0x7f8a5a21ec50>"
            ]
          },
          "metadata": {
            "tags": []
          },
          "execution_count": 42
        },
        {
          "output_type": "display_data",
          "data": {
            "image/png": "[encoded data removed]",
            "text/plain": [
              "<Figure size 2880x432 with 1 Axes>"
            ]
          },
          "metadata": {
            "tags": []
          }
        }
      ]
    },
    {
      "cell_type": "code",
      "metadata": {
        "id": "agaL8LMQo7Kb",
        "colab_type": "code",
        "colab": {
          "base_uri": "https://localhost:8080/",
          "height": 34
        },
        "outputId": "90038083-fcc2-4d64-f5f9-630fac8c8fb9"
      },
      "source": [
        "a = np.array([1,2,3,1,2,1,1,1,3,2,2,1])\n",
        "counts = np.bincount(a)\n",
        "print(np.argmax(counts))"
      ],
      "execution_count": null,
      "outputs": [
        {
          "output_type": "stream",
          "text": [
            "1\n"
          ],
          "name": "stdout"
        }
      ]
    },
    {
      "cell_type": "code",
      "metadata": {
        "id": "eNn6fLgUsGb0",
        "colab_type": "code",
        "colab": {}
      },
      "source": [
        ""
      ],
      "execution_count": null,
      "outputs": []
    }
  ]
}